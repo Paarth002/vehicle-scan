{
  "cells": [
    {
      "cell_type": "code",
      "execution_count": 258,
      "metadata": {
        "id": "Tizg01gL3KGq"
      },
      "outputs": [],
      "source": [
        "import pandas as pd\n",
        "import tensorflow as tf\n",
        "import numpy as np\n",
        "import imutils\n",
        "import cv2 as cv\n",
        "import matplotlib.pylab as plt\n",
        "from sklearn.metrics import classification_report\n",
        "from google.colab import files\n",
        "from tensorflow import keras\n",
        "from tensorflow.keras import layers\n",
        "from tensorflow.keras.preprocessing.image import img_to_array"
      ]
    },
    {
      "cell_type": "code",
      "execution_count": 259,
      "metadata": {
        "id": "7RLMgxvM3O0k",
        "colab": {
          "base_uri": "https://localhost:8080/"
        },
        "outputId": "4e1af3de-d8ea-4d0a-ae7e-2f7972cba460"
      },
      "outputs": [
        {
          "output_type": "stream",
          "name": "stdout",
          "text": [
            "Drive already mounted at /content/drive; to attempt to forcibly remount, call drive.mount(\"/content/drive\", force_remount=True).\n"
          ]
        }
      ],
      "source": [
        "from google.colab import drive\n",
        "drive.mount('/content/drive')"
      ]
    },
    {
      "cell_type": "code",
      "execution_count": 260,
      "metadata": {
        "id": "Xnt92RBSi-mU",
        "colab": {
          "base_uri": "https://localhost:8080/"
        },
        "outputId": "83050149-8afc-4342-d4fe-155bb5c0c63a"
      },
      "outputs": [
        {
          "output_type": "stream",
          "name": "stdout",
          "text": [
            "Found 2513 images belonging to 8 classes.\n",
            "Found 400 images belonging to 8 classes.\n",
            "Found 136 images belonging to 8 classes.\n"
          ]
        }
      ],
      "source": [
        "train_path = '/content/drive/MyDrive/input/Car_Brand_Logos/Train'\n",
        "                                                      \n",
        "valid_path = '/content/drive/MyDrive/input/Car_Brand_Logos/Test'\n",
        "test_path = '/content/drive/MyDrive/input/Test'\n",
        "   \n",
        "from tensorflow.keras.preprocessing.image import ImageDataGenerator\n",
        "\n",
        "train_datagen = ImageDataGenerator(rescale = 1./255,\n",
        "                                   shear_range = 0.2,\n",
        "                                   zoom_range = 0.1,\n",
        "                                   horizontal_flip = True,\n",
        "                                   )\n",
        "\n",
        "valid_datagen = ImageDataGenerator(rescale = 1./255)\n",
        "test_datagen = ImageDataGenerator(rescale = 1./255)\n",
        "training_set = train_datagen.flow_from_directory(train_path,\n",
        "                                                 target_size = (256, 256),\n",
        "                                                 batch_size = 32,\n",
        "                                                 class_mode = 'categorical',\n",
        "                                                 color_mode='grayscale')\n",
        "                                                \n",
        "validation_set = valid_datagen.flow_from_directory(valid_path,\n",
        "                                            target_size = (256, 256),\n",
        "                                            batch_size = 32,\n",
        "                                            class_mode = 'categorical',\n",
        "                                             color_mode='grayscale')\n",
        "test_set = valid_datagen.flow_from_directory(test_path,\n",
        "                                            target_size = (256, 256),\n",
        "                                            batch_size = 32,\n",
        "                                            class_mode = 'categorical',\n",
        "                                             color_mode='grayscale')"
      ]
    },
    {
      "cell_type": "code",
      "execution_count": 261,
      "metadata": {
        "colab": {
          "base_uri": "https://localhost:8080/"
        },
        "id": "MvxRvHTK3Q0b",
        "outputId": "84c02e31-b61a-4efc-b1a7-6a4a63e3f3bf"
      },
      "outputs": [
        {
          "output_type": "stream",
          "name": "stdout",
          "text": [
            "Model: \"sequential_13\"\n",
            "_________________________________________________________________\n",
            " Layer (type)                Output Shape              Param #   \n",
            "=================================================================\n",
            " conv2d_309 (Conv2D)         (None, 256, 256, 32)      1600      \n",
            "                                                                 \n",
            " conv2d_310 (Conv2D)         (None, 256, 256, 32)      50208     \n",
            "                                                                 \n",
            " max_pooling2d_105 (MaxPooli  (None, 128, 128, 32)     0         \n",
            " ng2D)                                                           \n",
            "                                                                 \n",
            " conv2d_311 (Conv2D)         (None, 128, 128, 64)      100416    \n",
            "                                                                 \n",
            " conv2d_312 (Conv2D)         (None, 128, 128, 64)      200768    \n",
            "                                                                 \n",
            " max_pooling2d_106 (MaxPooli  (None, 64, 64, 64)       0         \n",
            " ng2D)                                                           \n",
            "                                                                 \n",
            " conv2d_313 (Conv2D)         (None, 64, 64, 128)       401536    \n",
            "                                                                 \n",
            " conv2d_314 (Conv2D)         (None, 64, 64, 128)       802944    \n",
            "                                                                 \n",
            " max_pooling2d_107 (MaxPooli  (None, 32, 32, 128)      0         \n",
            " ng2D)                                                           \n",
            "                                                                 \n",
            " conv2d_315 (Conv2D)         (None, 32, 32, 256)       1605888   \n",
            "                                                                 \n",
            " conv2d_316 (Conv2D)         (None, 32, 32, 256)       3211520   \n",
            "                                                                 \n",
            " max_pooling2d_108 (MaxPooli  (None, 16, 16, 256)      0         \n",
            " ng2D)                                                           \n",
            "                                                                 \n",
            " conv2d_317 (Conv2D)         (None, 16, 16, 64)        409664    \n",
            "                                                                 \n",
            " conv2d_318 (Conv2D)         (None, 16, 16, 128)       204928    \n",
            "                                                                 \n",
            " conv2d_319 (Conv2D)         (None, 16, 16, 128)       409728    \n",
            "                                                                 \n",
            " conv2d_320 (Conv2D)         (None, 16, 16, 128)       409728    \n",
            "                                                                 \n",
            " max_pooling2d_109 (MaxPooli  (None, 8, 8, 128)        0         \n",
            " ng2D)                                                           \n",
            "                                                                 \n",
            " conv2d_321 (Conv2D)         (None, 8, 8, 128)         409728    \n",
            "                                                                 \n",
            " conv2d_322 (Conv2D)         (None, 8, 8, 256)         819456    \n",
            "                                                                 \n",
            " conv2d_323 (Conv2D)         (None, 8, 8, 256)         1638656   \n",
            "                                                                 \n",
            " conv2d_324 (Conv2D)         (None, 8, 8, 64)          147520    \n",
            "                                                                 \n",
            " conv2d_325 (Conv2D)         (None, 8, 8, 64)          36928     \n",
            "                                                                 \n",
            " max_pooling2d_110 (MaxPooli  (None, 4, 4, 64)         0         \n",
            " ng2D)                                                           \n",
            "                                                                 \n",
            " conv2d_326 (Conv2D)         (None, 4, 4, 128)         73856     \n",
            "                                                                 \n",
            " conv2d_327 (Conv2D)         (None, 4, 4, 128)         147584    \n",
            "                                                                 \n",
            " max_pooling2d_111 (MaxPooli  (None, 2, 2, 128)        0         \n",
            " ng2D)                                                           \n",
            "                                                                 \n",
            " conv2d_328 (Conv2D)         (None, 2, 2, 256)         295168    \n",
            "                                                                 \n",
            " conv2d_329 (Conv2D)         (None, 2, 2, 256)         590080    \n",
            "                                                                 \n",
            " max_pooling2d_112 (MaxPooli  (None, 1, 1, 256)        0         \n",
            " ng2D)                                                           \n",
            "                                                                 \n",
            " conv2d_330 (Conv2D)         (None, 1, 1, 512)         1180160   \n",
            "                                                                 \n",
            " conv2d_331 (Conv2D)         (None, 1, 1, 512)         2359808   \n",
            "                                                                 \n",
            " flatten_13 (Flatten)        (None, 512)               0         \n",
            "                                                                 \n",
            " batch_normalization_26 (Bat  (None, 512)              2048      \n",
            " chNormalization)                                                \n",
            "                                                                 \n",
            " dense_39 (Dense)            (None, 50)                25650     \n",
            "                                                                 \n",
            " batch_normalization_27 (Bat  (None, 50)               200       \n",
            " chNormalization)                                                \n",
            "                                                                 \n",
            " dense_40 (Dense)            (None, 40)                2040      \n",
            "                                                                 \n",
            " dense_41 (Dense)            (None, 8)                 328       \n",
            "                                                                 \n",
            "=================================================================\n",
            "Total params: 15,538,138\n",
            "Trainable params: 15,537,014\n",
            "Non-trainable params: 1,124\n",
            "_________________________________________________________________\n"
          ]
        }
      ],
      "source": [
        "model = keras.Sequential([\n",
        "     layers.Conv2D(32, 7,1, 'same',activation= 'relu', input_shape =(256,256,1) ),\n",
        "     layers.Conv2D(32, 7,1, 'same',activation= 'relu'),\n",
        "          layers.MaxPool2D(),\n",
        "      layers.Conv2D(64, 7,1, 'same',activation= 'relu'),\n",
        "      layers.Conv2D(64, 7,1, 'same',activation= 'relu'),\n",
        "     layers.MaxPool2D(),\n",
        "   layers.Conv2D(128, 7,1, 'same',activation= 'relu'),\n",
        "      layers.Conv2D(128, 7,1, 'same',activation= 'relu'),\n",
        "     layers.MaxPool2D(),\n",
        "      layers.Conv2D(256, 7,1, 'same',activation= 'relu'),\n",
        "      layers.Conv2D(256, 7,1, 'same',activation= 'relu'),\n",
        "      layers.MaxPool2D(),\n",
        "     layers.Conv2D(64, 5,1, 'same',activation= 'relu' ),\n",
        "     layers.Conv2D(128, 5,1, 'same',activation= 'relu' ),\n",
        "       layers.Conv2D(128, 5,1, 'same',activation= 'relu' ),\n",
        "       layers.Conv2D(128, 5,1, 'same',activation= 'relu' ),\n",
        "       layers.MaxPool2D(),\n",
        "      layers.Conv2D(128, 5,1, 'same',activation= 'relu' ),\n",
        "       layers.Conv2D(256, 5,1, 'same',activation= 'relu' ),\n",
        "       layers.Conv2D(256, 5,1, 'same',activation= 'relu' ),   \n",
        "     layers.Conv2D(64, 3,1, 'same',activation= 'relu' ),\n",
        "    layers.Conv2D(64, 3,1, 'same',activation= 'relu' ),\n",
        "    layers.MaxPool2D(),\n",
        "    layers.Conv2D(128, 3,1, 'same',activation= 'relu' ),\n",
        "    layers.Conv2D(128, 3,1, 'same',activation= 'relu' ),\n",
        "     layers.MaxPool2D(),\n",
        "    layers.Conv2D(256, 3,1, 'same',activation= 'relu' ),\n",
        "    layers.Conv2D(256, 3,1, 'same',activation= 'relu' ),\n",
        "    layers.MaxPool2D(),\n",
        "    layers.Conv2D(512, 3,1, 'same',activation= 'relu' ),\n",
        "    layers.Conv2D(512, 3,1, 'same',activation= 'relu' ),\n",
        "    layers.Flatten(), \n",
        "     layers.BatchNormalization(),\n",
        "    layers.Dense(50, 'relu'),\n",
        "     layers.BatchNormalization(),\n",
        "    layers.Dense(40, 'relu'),\n",
        "    layers.Dense(8, activation = 'softmax')\n",
        "])\n",
        "model.summary()"
      ]
    },
    {
      "cell_type": "code",
      "execution_count": 262,
      "metadata": {
        "colab": {
          "base_uri": "https://localhost:8080/"
        },
        "id": "j0AK-SULhacU",
        "outputId": "5b4ff1cc-793f-43fa-a12e-12ecc4d6c80c"
      },
      "outputs": [
        {
          "output_type": "stream",
          "name": "stderr",
          "text": [
            "/usr/local/lib/python3.7/dist-packages/keras/optimizer_v2/adam.py:105: UserWarning: The `lr` argument is deprecated, use `learning_rate` instead.\n",
            "  super(Adam, self).__init__(name, **kwargs)\n"
          ]
        },
        {
          "output_type": "stream",
          "name": "stdout",
          "text": [
            "Epoch 1/30\n",
            "75/79 [===========================>..] - ETA: 2s - loss: 2.0719 - accuracy: 0.1530"
          ]
        },
        {
          "output_type": "stream",
          "name": "stderr",
          "text": [
            "/usr/local/lib/python3.7/dist-packages/PIL/TiffImagePlugin.py:788: UserWarning: Corrupt EXIF data.  Expecting to read 4 bytes but only got 0. \n",
            "  warnings.warn(str(msg))\n"
          ]
        },
        {
          "output_type": "stream",
          "name": "stdout",
          "text": [
            "79/79 [==============================] - 57s 702ms/step - loss: 2.0729 - accuracy: 0.1496 - val_loss: 2.0795 - val_accuracy: 0.1250\n",
            "Epoch 2/30\n",
            "79/79 [==============================] - 55s 700ms/step - loss: 2.0757 - accuracy: 0.1520 - val_loss: 2.0793 - val_accuracy: 0.1250\n",
            "Epoch 3/30\n",
            "79/79 [==============================] - 54s 687ms/step - loss: 2.0223 - accuracy: 0.1763 - val_loss: 2.0749 - val_accuracy: 0.1625\n",
            "Epoch 4/30\n",
            "79/79 [==============================] - 56s 705ms/step - loss: 1.9554 - accuracy: 0.2244 - val_loss: 2.0686 - val_accuracy: 0.2100\n",
            "Epoch 5/30\n",
            "79/79 [==============================] - 54s 679ms/step - loss: 1.8969 - accuracy: 0.2610 - val_loss: 2.0399 - val_accuracy: 0.2000\n",
            "Epoch 6/30\n",
            "79/79 [==============================] - 53s 666ms/step - loss: 1.8117 - accuracy: 0.3104 - val_loss: 2.0227 - val_accuracy: 0.1750\n",
            "Epoch 7/30\n",
            "79/79 [==============================] - 58s 735ms/step - loss: 1.7529 - accuracy: 0.3494 - val_loss: 1.8836 - val_accuracy: 0.2725\n",
            "Epoch 8/30\n",
            "79/79 [==============================] - 55s 692ms/step - loss: 1.6660 - accuracy: 0.3963 - val_loss: 1.8613 - val_accuracy: 0.2850\n",
            "Epoch 9/30\n",
            "79/79 [==============================] - 54s 688ms/step - loss: 1.6141 - accuracy: 0.4294 - val_loss: 2.0414 - val_accuracy: 0.2725\n",
            "Epoch 10/30\n",
            "79/79 [==============================] - 53s 673ms/step - loss: 1.4909 - accuracy: 0.4715 - val_loss: 2.0465 - val_accuracy: 0.2700\n",
            "Epoch 11/30\n",
            "79/79 [==============================] - 55s 689ms/step - loss: 1.4148 - accuracy: 0.5177 - val_loss: 1.5309 - val_accuracy: 0.4350\n",
            "Epoch 12/30\n",
            "79/79 [==============================] - 55s 687ms/step - loss: 1.3145 - accuracy: 0.5412 - val_loss: 1.6045 - val_accuracy: 0.4475\n",
            "Epoch 13/30\n",
            "79/79 [==============================] - 56s 706ms/step - loss: 1.2410 - accuracy: 0.5754 - val_loss: 1.6897 - val_accuracy: 0.4950\n",
            "Epoch 14/30\n",
            "79/79 [==============================] - 54s 684ms/step - loss: 1.1641 - accuracy: 0.6076 - val_loss: 1.2953 - val_accuracy: 0.5700\n",
            "Epoch 15/30\n",
            "79/79 [==============================] - 54s 676ms/step - loss: 1.0801 - accuracy: 0.6299 - val_loss: 1.4720 - val_accuracy: 0.4975\n",
            "Epoch 16/30\n",
            "79/79 [==============================] - 55s 686ms/step - loss: 1.0400 - accuracy: 0.6470 - val_loss: 1.3518 - val_accuracy: 0.5700\n",
            "Epoch 17/30\n",
            "79/79 [==============================] - 54s 685ms/step - loss: 0.9841 - accuracy: 0.6677 - val_loss: 1.2787 - val_accuracy: 0.6200\n",
            "Epoch 18/30\n",
            "79/79 [==============================] - 55s 688ms/step - loss: 0.9127 - accuracy: 0.6936 - val_loss: 1.2080 - val_accuracy: 0.6050\n",
            "Epoch 19/30\n",
            "79/79 [==============================] - 53s 673ms/step - loss: 0.8824 - accuracy: 0.6956 - val_loss: 1.5000 - val_accuracy: 0.5800\n",
            "Epoch 20/30\n",
            "79/79 [==============================] - 54s 687ms/step - loss: 0.8337 - accuracy: 0.7159 - val_loss: 1.3043 - val_accuracy: 0.6200\n",
            "Epoch 21/30\n",
            "79/79 [==============================] - 54s 676ms/step - loss: 0.7876 - accuracy: 0.7402 - val_loss: 1.0937 - val_accuracy: 0.6525\n",
            "Epoch 22/30\n",
            "79/79 [==============================] - 55s 690ms/step - loss: 0.7747 - accuracy: 0.7469 - val_loss: 1.1448 - val_accuracy: 0.6400\n",
            "Epoch 23/30\n",
            "79/79 [==============================] - 54s 674ms/step - loss: 0.7185 - accuracy: 0.7616 - val_loss: 1.0779 - val_accuracy: 0.6725\n",
            "Epoch 24/30\n",
            "79/79 [==============================] - 53s 671ms/step - loss: 0.6700 - accuracy: 0.7740 - val_loss: 1.0685 - val_accuracy: 0.6725\n",
            "Epoch 25/30\n",
            "79/79 [==============================] - 55s 696ms/step - loss: 0.6306 - accuracy: 0.7959 - val_loss: 0.9962 - val_accuracy: 0.6775\n",
            "Epoch 26/30\n",
            "79/79 [==============================] - 54s 681ms/step - loss: 0.6027 - accuracy: 0.7986 - val_loss: 1.0466 - val_accuracy: 0.6750\n",
            "Epoch 27/30\n",
            "79/79 [==============================] - 54s 684ms/step - loss: 0.6263 - accuracy: 0.7903 - val_loss: 1.2440 - val_accuracy: 0.6175\n",
            "Epoch 28/30\n",
            "79/79 [==============================] - 54s 681ms/step - loss: 0.5882 - accuracy: 0.8130 - val_loss: 0.9768 - val_accuracy: 0.6850\n",
            "Epoch 29/30\n",
            "79/79 [==============================] - 56s 699ms/step - loss: 0.5196 - accuracy: 0.8313 - val_loss: 0.9160 - val_accuracy: 0.7075\n",
            "Epoch 30/30\n",
            "79/79 [==============================] - 53s 674ms/step - loss: 0.5073 - accuracy: 0.8341 - val_loss: 1.0829 - val_accuracy: 0.6675\n"
          ]
        }
      ],
      "source": [
        "model_checkpoint_callback = tf.keras.callbacks.ModelCheckpoint(\n",
        "    filepath='/content/drive/MyDrive/Epochdat',\n",
        "    save_weights_only=True,\n",
        "    monitor='val_accuracy',\n",
        "    mode='max',\n",
        "    save_best_only=True)\n",
        "\n",
        "\n",
        "\n",
        "\n",
        "model.compile(optimizer=tf.keras.optimizers.Adam(lr=0.0001),\n",
        "              loss = 'categorical_crossentropy',\n",
        "              metrics=['accuracy']\n",
        "              )\n",
        "history = model.fit(\n",
        "  training_set,\n",
        "  validation_data=validation_set,\n",
        "  epochs=30,\n",
        "  verbose=1,callbacks=[model_checkpoint_callback]\n",
        ")"
      ]
    },
    {
      "cell_type": "code",
      "source": [
        "model.save('/content/drive/MyDrive')"
      ],
      "metadata": {
        "id": "gk9C1FsdkEZt"
      },
      "execution_count": 263,
      "outputs": []
    },
    {
      "cell_type": "code",
      "source": [
        "\n",
        "from sklearn.metrics import classification_report"
      ],
      "metadata": {
        "id": "rnh40TsKUjHd"
      },
      "execution_count": 264,
      "outputs": []
    },
    {
      "cell_type": "code",
      "source": [
        "test_labels=test_set.classes \n",
        "predictions=model.predict_generator(test_set, verbose='1')\n",
        "y_pred = np.argmax(predictions, axis=-1)\n",
        "print(classification_report(test_labels, y_pred))\n",
        "                          "
      ],
      "metadata": {
        "id": "q9aQZhbkYEGp",
        "colab": {
          "base_uri": "https://localhost:8080/"
        },
        "outputId": "d40ffe55-0082-4ca2-d9ce-33a3a940b87e"
      },
      "execution_count": 266,
      "outputs": [
        {
          "output_type": "stream",
          "name": "stderr",
          "text": [
            "/usr/local/lib/python3.7/dist-packages/ipykernel_launcher.py:2: UserWarning: `Model.predict_generator` is deprecated and will be removed in a future version. Please use `Model.predict`, which supports generators.\n",
            "  \n"
          ]
        },
        {
          "output_type": "stream",
          "name": "stdout",
          "text": [
            "              precision    recall  f1-score   support\n",
            "\n",
            "           0       0.00      0.00      0.00        17\n",
            "           1       0.24      0.24      0.24        17\n",
            "           2       0.17      0.12      0.14        17\n",
            "           3       0.12      0.12      0.12        17\n",
            "           4       0.17      0.18      0.17        17\n",
            "           5       0.18      0.18      0.18        17\n",
            "           6       0.24      0.24      0.24        17\n",
            "           7       0.18      0.24      0.21        17\n",
            "\n",
            "    accuracy                           0.16       136\n",
            "   macro avg       0.16      0.16      0.16       136\n",
            "weighted avg       0.16      0.16      0.16       136\n",
            "\n"
          ]
        }
      ]
    },
    {
      "cell_type": "code",
      "execution_count": 267,
      "metadata": {
        "id": "Hjn1fmi2Xr_s"
      },
      "outputs": [],
      "source": [
        "def slide_window(image,ws ):\n",
        "  for y in range (0, image.shape[0]- ws[1],4):\n",
        "    for x in range (0, image.shape[0]- ws[0],4):\n",
        "      yield(x,y, image[y:y+ws[1], x:x+ws[0]])"
      ]
    },
    {
      "cell_type": "code",
      "execution_count": 268,
      "metadata": {
        "id": "EaoX7J2uG2Qf"
      },
      "outputs": [],
      "source": [
        "def img_pyr(image, scale= 1.5, minSize=(128,128)) :\n",
        "  yield image\n",
        "  while True:\n",
        "    w= int(image.shape[1]/scale)\n",
        "    image = imutils.resize(image,width=w)\n",
        "    if image.shape[0]<minSize[1] or image.shape[1]<minSize[0]:\n",
        "      break\n",
        "    yield image"
      ]
    },
    {
      "cell_type": "code",
      "execution_count": 269,
      "metadata": {
        "id": "ukdyC3q7SyOb"
      },
      "outputs": [],
      "source": [
        "scan_img = cv.imread('/content/drive/MyDrive/input/mercedes.jpg')\n",
        "\t\n",
        "gray = cv.cvtColor(scan_img, cv.COLOR_BGR2GRAY)\n",
        "gray = imutils.resize(gray, width=600)\n",
        "INPUT_SIZE = (256, 256)\n",
        "(H, W) = gray.shape[:2]\n",
        "pyram=img_pyr(gray,1.5,(128,128))\n",
        "rois = []\n",
        "locs = []"
      ]
    },
    {
      "cell_type": "code",
      "execution_count": 270,
      "metadata": {
        "id": "ypEkyhdX-zpC"
      },
      "outputs": [],
      "source": [
        "for image in pyram:\n",
        "  scale = W/ float(image.shape[1])\n",
        "  for (x, y, roiOrig) in slide_window(image, (32,32)):\n",
        "   x = int(x*scale)\n",
        "   y = int(y*scale)\n",
        "  w = int(128*scale)\n",
        "  h = int(128*scale)\n",
        "  roi = cv.resize(roiOrig, INPUT_SIZE)\n",
        "  roi = img_to_array(roi)\n",
        "  rois.append(roi)\n",
        "  locs.append((x, y, x + w, y + h))"
      ]
    },
    {
      "cell_type": "code",
      "execution_count": 274,
      "metadata": {
        "id": "SLyASdYcBPmd",
        "colab": {
          "base_uri": "https://localhost:8080/"
        },
        "outputId": "1381386b-41cf-4016-b01a-5bfc35cf9853"
      },
      "outputs": [
        {
          "output_type": "stream",
          "name": "stdout",
          "text": [
            "Logo: Opel\n",
            "Confidence%:  100.0\n"
          ]
        }
      ],
      "source": [
        "rois = np.array(rois, dtype=\"float32\")\n",
        "preds = model.predict(rois,32)\n",
        "np.set_printoptions(threshold=np.inf)\n",
        "logodict = {0:'Hyundai' ,1: 'Lexus', 2: 'Mazda' , 3: 'Mercedes', 4: 'Opel' , 5: 'Skoda', 6: 'Toyota', 7: 'Volkswagen'}\n",
        "predicprob=[]\n",
        "predicclass=[]\n",
        "for i in preds:\n",
        " if i[np.argmax(i)]>0.5:\n",
        "  predicprob.append([i[np.argmax(i)]*100])\n",
        "  predicclass.append(np.argmax(i))\n",
        "print(\"Logo:\", logodict[predicclass[predicprob.index(max(predicprob))]]) \n",
        "print(\"Confidence%: \", max(predicprob)[0])"
      ]
    }
  ],
  "metadata": {
    "accelerator": "GPU",
    "colab": {
      "collapsed_sections": [],
      "name": "LogoNeuralNet.ipynb",
      "provenance": []
    },
    "gpuClass": "standard",
    "kernelspec": {
      "display_name": "Python 3",
      "name": "python3"
    },
    "language_info": {
      "name": "python"
    }
  },
  "nbformat": 4,
  "nbformat_minor": 0
}